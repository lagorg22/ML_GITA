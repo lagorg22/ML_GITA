{
 "cells": [
  {
   "cell_type": "markdown",
   "id": "18e17e01-cf80-45ba-92ad-3976ad74fac8",
   "metadata": {},
   "source": [
    "# Assignment: Implement a Minimax Algorithm for Tic-Tac-Toe"
   ]
  },
  {
   "cell_type": "markdown",
   "id": "7cec33b5-e39b-42db-a252-45b946eeeb68",
   "metadata": {},
   "source": [
    "## Introduction"
   ]
  },
  {
   "cell_type": "markdown",
   "id": "a7c8a964-a55d-413b-9e73-5f831d120055",
   "metadata": {},
   "source": [
    "This assignment asks you to implement a minimax-based decision-making algorithm for a Tic-Tac-Toe game. You will write a console application, but for demonstration and testing, you will develop and demonstrate your work in this Jupyter Notebook."
   ]
  },
  {
   "cell_type": "markdown",
   "id": "35cce072-a6be-4951-93c8-b535b3d1be99",
   "metadata": {},
   "source": [
    "**Minimax** is a classic algorithm in game theory often used in turn-based games like Tic-Tac-Toe, Checkers, or Chess. The goal of the algorithm is to choose the optimal move for a player, assuming that the opponent is also playing optimally."
   ]
  },
  {
   "cell_type": "markdown",
   "id": "76996b35-a386-4ba0-9b2f-ffcc5546a6fa",
   "metadata": {},
   "source": [
    "### Resources"
   ]
  },
  {
   "cell_type": "markdown",
   "id": "ee5ca6d3-d66f-4857-b187-f1e9877bf2cb",
   "metadata": {},
   "source": [
    "- For an illustrated guide to minimax: [NeverStopBuilding Blog Post](https://www.neverstopbuilding.com/blog/minimax)\n",
    "- Tutorial for a console-based minimax: [GeeksForGeeks Article](https://www.geeksforgeeks.org/minimax-algorithm-in-game-theory-set-1-introduction/)"
   ]
  },
  {
   "cell_type": "markdown",
   "id": "d19d466f-9407-4015-8c46-23659f417fb1",
   "metadata": {},
   "source": [
    "## Rules of the Assignment"
   ]
  },
  {
   "cell_type": "markdown",
   "id": "4bc69d63-777e-4807-80eb-588a81d870b8",
   "metadata": {},
   "source": [
    "1. Input:\n",
    "    - A 3×3 grid representing the Tic-Tac-Toe board, which may contain the characters 'X', 'O', or '' (empty).\n",
    "    - The second parameter is the player who should play now (either 'X' or 'O').\n",
    "2. Output:\n",
    "   - Return the coordinates (row and column, typically in the range [0..2]) of the best possible move.\n",
    "   - If there is more than one best move, returning any one of the best moves is acceptable.\n",
    "3. Implementation Detail:\n",
    "   - You **must implement** a minimax function (a stub is provided below). This function will be used in final testing.\n",
    "   - Feel free to create additional helper functions or classes to structure your code (e.g., checking for winners, generating possible moves, etc.)."
   ]
  },
  {
   "cell_type": "markdown",
   "id": "6647324f-e31b-47b0-8b1c-457dfa396ce7",
   "metadata": {},
   "source": [
    "## Grading Criteria"
   ]
  },
  {
   "cell_type": "markdown",
   "id": "f9bbe495-6cdf-4c1e-84d4-df5a8c78032d",
   "metadata": {},
   "source": [
    "Your work will be evaluated based on three main criteria:\n",
    "\n",
    "1. Performance\n",
    "   - Your program should not take more than **1 minute** to finish for any valid Tic-Tac-Toe board.\n",
    "2. Readability and Methodology\n",
    "   - Clear, well-structured code with logical function/class breakdown.\n",
    "   - Proper naming conventions and comments are encouraged.\n",
    "3. Results\n",
    "   -The returned move(s) must be correct for the given Tic-Tac-Toe state."
   ]
  },
  {
   "cell_type": "markdown",
   "id": "67676309-4c54-4c78-88fa-72ef9c6b30c2",
   "metadata": {},
   "source": [
    "## Problem Definition and Requirements"
   ]
  },
  {
   "cell_type": "markdown",
   "id": "3e3128b2-bd2d-440c-9f31-ea62d320425e",
   "metadata": {},
   "source": [
    "- You will write a function that, given a 3×3 Tic-Tac-Toe board state and the current player, returns the optimal move using the minimax algorithm.\n",
    "- **Minimax** is designed to choose moves that maximize the player’s outcome while minimizing the opponent’s outcome. In other words:\n",
    "    - **Maximizing player** tries to maximize the score.\n",
    "    - **Minimizing player** tries to minimize the score."
   ]
  },
  {
   "cell_type": "markdown",
   "id": "834ee640-4db5-4c24-a7d1-b482a9e3d6cb",
   "metadata": {},
   "source": [
    "### Key Steps in Minimax:\n",
    "1. Check Terminal State\n",
    "    - If the game is over (win, lose, or draw), return a score (e.g., +1 for a win, -1 for a loss, 0 for a draw).\n",
    "2. Generate Possible Moves\n",
    "    - For each empty cell, simulate placing the current player’s mark in that cell.\n",
    "3. Recursive Evaluation\n",
    "    - Alternate between maximizing and minimizing for each turn.\n",
    "    - Return the best achievable score (and ideally, the move leading to that best score).\n",
    "4. Keep in mind to use pruning or some kind of performance optimization techniques. \n",
    "5. Return the Optimal Move\n",
    "    - Once you have evaluated all possible scenarios, pick the move with the best outcome for the current player."
   ]
  },
  {
   "cell_type": "markdown",
   "id": "e04f6b26-ea67-42c7-b6de-19f5abf007a4",
   "metadata": {},
   "source": [
    "## Provided Minimax Function"
   ]
  },
  {
   "cell_type": "markdown",
   "id": "63edd5f0-65a8-4819-87e6-cd3c5f11dadc",
   "metadata": {},
   "source": [
    "Below is a basic structure of a minimax function you should implement. You are free to modify or add parameters if needed, but ensure you have a function named minimax that can be called by the testing code."
   ]
  },
  {
   "cell_type": "markdown",
   "id": "1285d193-3dab-47ce-97c1-c8ef9c1cf0a3",
   "metadata": {},
   "source": [
    "**Important**: Use your creativity in designing helper methods. For instance, you may create a method to check for a winner, a method to evaluate the board, or to list all possible moves, etc."
   ]
  },
  {
   "cell_type": "markdown",
   "id": "abd57569-74b3-4bfe-bd2c-c9e3b6f08f49",
   "metadata": {},
   "source": [
    "## Start your Implementation here"
   ]
  },
  {
   "cell_type": "code",
   "execution_count": 16,
   "id": "ae2a72f3-9ead-4c7d-8bae-093d3c6eb622",
   "metadata": {},
   "outputs": [],
   "source": [
    "def minimax(board, player):\n",
    "    \"\"\"\n",
    "    A function to calculate the best possible move using the minimax algorithm.\n",
    "\n",
    "    Parameters:\n",
    "    -----------\n",
    "    board : list[list[str]]\n",
    "        A 3x3 matrix representing the board state. Each element is either 'X', 'O', or ''.\n",
    "    player : str\n",
    "        The current player ('X' or 'O').\n",
    "\n",
    "    Returns:\n",
    "    --------\n",
    "    best_score : int\n",
    "        The best score achievable for the given 'player'.\n",
    "    best_move : tuple\n",
    "        A tuple (row, col) representing the best move coordinates.\n",
    "    \"\"\"\n",
    "\n",
    "    pass\n"
   ]
  },
  {
   "cell_type": "code",
   "execution_count": 17,
   "id": "b60393ed-9eff-40f6-947a-b855ac7302d3",
   "metadata": {},
   "outputs": [],
   "source": [
    "def best_move_for_player(board, current_player):\n",
    "    \"\"\"\n",
    "    Determines the best move (row, col) for current_player on a given board using minimax.\n",
    "    Returns the row and column indices of the chosen move.\n",
    "    \"\"\"\n",
    "\n",
    "    # Call minimax\n",
    "    _, move = minimax(board, current_player)\n",
    "\n",
    "    # move is expected to be a tuple (row, col)\n",
    "    return move"
   ]
  },
  {
   "cell_type": "code",
   "execution_count": 5,
   "id": "991af109-d041-41ec-a88c-234b1b3a3011",
   "metadata": {},
   "outputs": [],
   "source": [
    "def print_board(board):\n",
    "    \"\"\"\n",
    "    Prints the Tic-Tac-Toe board to the console in a neat format.\n",
    "    \"\"\"\n",
    "    for row in board:\n",
    "        row_display = ' | '.join(cell if cell != '' else ' ' for cell in row)\n",
    "        print(row_display)\n",
    "        print('-' * 9)"
   ]
  },
  {
   "cell_type": "code",
   "execution_count": 14,
   "id": "a50f592b-08d4-4ddc-8a12-6bf827ee6b56",
   "metadata": {},
   "outputs": [],
   "source": [
    "class Board:\n",
    "    def __init__(self):\n",
    "        self.empty_cell_count: int = 9\n",
    "        self.board: list[list[str]] = [\n",
    "            ['*', '*', '*'],\n",
    "            ['*', '*', '*'],\n",
    "            ['*', '*', '*']            \n",
    "        ]\n",
    "\n",
    "    def display(self):\n",
    "        for row in self.board:\n",
    "            print(' | '.join(cell for cell in row), '\\n')\n",
    "            \n",
    "    def set_cell(self, coordinates: tuple[int, int], val: str):\n",
    "        row = coordinates[0]\n",
    "        col = coordinates[1]\n",
    "        self.board[row][col] = val        \n",
    "\n",
    "    def is_cell_empty(self, coordinates: tuple[int, int]):\n",
    "        row = coordinates[0]\n",
    "        col = coordinates[1]\n",
    "        return self.board[row][col] == '*'\n",
    "\n",
    "    def is_finished(self):\n",
    "        ...\n",
    "                \n",
    "        \n",
    "b = Board()\n",
    "\n"
   ]
  },
  {
   "cell_type": "code",
   "execution_count": null,
   "id": "8c8287e4-4406-488f-b416-d4966d5a004b",
   "metadata": {},
   "outputs": [],
   "source": []
  },
  {
   "cell_type": "code",
   "execution_count": null,
   "id": "1edaef82-caaa-4c0b-8151-100892a4d58e",
   "metadata": {},
   "outputs": [],
   "source": []
  },
  {
   "cell_type": "code",
   "execution_count": null,
   "id": "e4c21b02-bf46-4f65-a908-26900d9a122c",
   "metadata": {},
   "outputs": [],
   "source": []
  },
  {
   "cell_type": "code",
   "execution_count": null,
   "id": "960c594a-c166-44a7-b015-fea724ae2e20",
   "metadata": {},
   "outputs": [],
   "source": []
  },
  {
   "cell_type": "markdown",
   "id": "c1eb6d96-1b02-41c2-9628-aedf5714b52e",
   "metadata": {},
   "source": [
    "**Extension**\n",
    "\n",
    "- Implement pruning\n",
    "- Choose shortest strategy to end a match."
   ]
  }
 ],
 "metadata": {
  "kernelspec": {
   "display_name": "Python 3 (ipykernel)",
   "language": "python",
   "name": "python3"
  },
  "language_info": {
   "codemirror_mode": {
    "name": "ipython",
    "version": 3
   },
   "file_extension": ".py",
   "mimetype": "text/x-python",
   "name": "python",
   "nbconvert_exporter": "python",
   "pygments_lexer": "ipython3",
   "version": "3.10.16"
  }
 },
 "nbformat": 4,
 "nbformat_minor": 5
}
